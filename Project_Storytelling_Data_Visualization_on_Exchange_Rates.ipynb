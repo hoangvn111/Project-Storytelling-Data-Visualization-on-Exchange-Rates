{
  "nbformat": 4,
  "nbformat_minor": 0,
  "metadata": {
    "colab": {
      "name": "Project: Storytelling Data Visualization on Exchange Rates.ipynb",
      "provenance": [],
      "authorship_tag": "ABX9TyPs2BbeKdnabbn+nJTrRmLZ",
      "include_colab_link": true
    },
    "kernelspec": {
      "name": "python3",
      "display_name": "Python 3"
    },
    "language_info": {
      "name": "python"
    }
  },
  "cells": [
    {
      "cell_type": "markdown",
      "metadata": {
        "id": "view-in-github",
        "colab_type": "text"
      },
      "source": [
        "<a href=\"https://colab.research.google.com/github/hoangvn111/Project-Storytelling-Data-Visualization-on-Exchange-Rates/blob/master/Project_Storytelling_Data_Visualization_on_Exchange_Rates.ipynb\" target=\"_parent\"><img src=\"https://colab.research.google.com/assets/colab-badge.svg\" alt=\"Open In Colab\"/></a>"
      ]
    },
    {
      "cell_type": "code",
      "metadata": {
        "id": "Xt1ZkitoeABv",
        "colab": {
          "base_uri": "https://localhost:8080/"
        },
        "outputId": "c6610b69-280e-47ca-b3c0-a9745640338c"
      },
      "source": [
        "from google.colab import drive\n",
        "drive.mount('/content/drive')"
      ],
      "execution_count": 1,
      "outputs": [
        {
          "output_type": "stream",
          "text": [
            "Drive already mounted at /content/drive; to attempt to forcibly remount, call drive.mount(\"/content/drive\", force_remount=True).\n"
          ],
          "name": "stdout"
        }
      ]
    },
    {
      "cell_type": "markdown",
      "metadata": {
        "id": "vqlZ5IB6hDe5"
      },
      "source": [
        "# **Project: Storytelling Data Visualization on Exchange Rates**"
      ]
    },
    {
      "cell_type": "markdown",
      "metadata": {
        "id": "kUyh-Ds9iBV2"
      },
      "source": [
        "**Content**\n",
        "\n",
        "Reference rates are euro foreign exchange rates observed on major foreign exchange trading venues at a certain point in time = they are the price of one currency in terms of another currency. The rates are usually updated around 16:00 CET on every working day, except on TARGET closing days.\n",
        "\n",
        "Dataset contains date and Euro rate corresponding to Australian dollar, Bulgarian lev, Brazilian real, Canadian dollar, Swiss franc, Chinese yuan renminbi, Cypriot pound, Czech koruna, Danish krone, Estonian kroon, UK pound sterling, Greek drachma, Hong Kong dollar, Croatian kuna, Hungarian forint, Indonesian rupiah, Israeli shekel, Indian rupee, Iceland krona, Japanese yen, Korean won, Lithuanian litas, Latvian lats, Maltese lira, Mexican peso, Malaysian ringgit, Norwegian krone, New Zealand dollar, Philippine peso, Polish zloty, Romanian leu, Russian rouble, Swedish krona, Singapore dollar, Slovenian tolar, Slovak koruna, Thai baht, Turkish lira, US dollar, South African rand.\n",
        "\n",
        "* Some currency in the list doesn't exist anymore; it was replaced by the Euro €: Cypriot pound (2007), Estonian kroon (2011), Greek drachma (2002), Lithuanian litas (2015), Latvian lats (2014), Maltese lira (2008), Slovenian tolar (2007), Slovak koruna (2009).\n",
        "* Bulgarian lev since 2002 is pegged to the Euro: 1 € = 1.9558 leva.\n",
        "\n",
        "Daria Chemkaeva put together the data set and made it available on [Kaggle](https://www.kaggle.com/lsind18/euro-exchange-daily-rates-19992020) "
      ]
    },
    {
      "cell_type": "markdown",
      "metadata": {
        "id": "3xEUyG4PiWMn"
      },
      "source": [
        "**Aim of this project**, we focused on explanatory data visualization.\n"
      ]
    },
    {
      "cell_type": "code",
      "metadata": {
        "id": "BQljlpiegmHB"
      },
      "source": [
        "import pandas as pd\n",
        "\n",
        "exchange_rates = pd.read_csv('/content/drive/MyDrive/my_datasets/Project: Storytelling Data Visualization on Exchange Rates/euro-daily-hist_1999_2020.csv')"
      ],
      "execution_count": 2,
      "outputs": []
    },
    {
      "cell_type": "code",
      "metadata": {
        "id": "4ZFYBhCIg_xv",
        "colab": {
          "base_uri": "https://localhost:8080/"
        },
        "outputId": "be8f882d-f1ba-4096-846e-9d412011d2b9"
      },
      "source": [
        "exchange_rates.info()"
      ],
      "execution_count": 3,
      "outputs": [
        {
          "output_type": "stream",
          "text": [
            "<class 'pandas.core.frame.DataFrame'>\n",
            "RangeIndex: 5699 entries, 0 to 5698\n",
            "Data columns (total 41 columns):\n",
            " #   Column                    Non-Null Count  Dtype  \n",
            "---  ------                    --------------  -----  \n",
            " 0   Period\\Unit:              5699 non-null   object \n",
            " 1   [Australian dollar ]      5699 non-null   object \n",
            " 2   [Bulgarian lev ]          5297 non-null   object \n",
            " 3   [Brazilian real ]         5431 non-null   object \n",
            " 4   [Canadian dollar ]        5699 non-null   object \n",
            " 5   [Swiss franc ]            5699 non-null   object \n",
            " 6   [Chinese yuan renminbi ]  5431 non-null   object \n",
            " 7   [Cypriot pound ]          2346 non-null   object \n",
            " 8   [Czech koruna ]           5699 non-null   object \n",
            " 9   [Danish krone ]           5699 non-null   object \n",
            " 10  [Estonian kroon ]         3130 non-null   object \n",
            " 11  [UK pound sterling ]      5699 non-null   object \n",
            " 12  [Greek drachma ]          520 non-null    object \n",
            " 13  [Hong Kong dollar ]       5699 non-null   object \n",
            " 14  [Croatian kuna ]          5431 non-null   object \n",
            " 15  [Hungarian forint ]       5699 non-null   object \n",
            " 16  [Indonesian rupiah ]      5699 non-null   object \n",
            " 17  [Israeli shekel ]         5431 non-null   object \n",
            " 18  [Indian rupee ]           5431 non-null   object \n",
            " 19  [Iceland krona ]          3292 non-null   float64\n",
            " 20  [Japanese yen ]           5699 non-null   object \n",
            " 21  [Korean won ]             5699 non-null   object \n",
            " 22  [Lithuanian litas ]       4159 non-null   object \n",
            " 23  [Latvian lats ]           3904 non-null   object \n",
            " 24  [Maltese lira ]           2346 non-null   object \n",
            " 25  [Mexican peso ]           5699 non-null   object \n",
            " 26  [Malaysian ringgit ]      5699 non-null   object \n",
            " 27  [Norwegian krone ]        5699 non-null   object \n",
            " 28  [New Zealand dollar ]     5699 non-null   object \n",
            " 29  [Philippine peso ]        5699 non-null   object \n",
            " 30  [Polish zloty ]           5699 non-null   object \n",
            " 31  [Romanian leu ]           5637 non-null   float64\n",
            " 32  [Russian rouble ]         5699 non-null   object \n",
            " 33  [Swedish krona ]          5699 non-null   object \n",
            " 34  [Singapore dollar ]       5699 non-null   object \n",
            " 35  [Slovenian tolar ]        2085 non-null   object \n",
            " 36  [Slovak koruna ]          2608 non-null   object \n",
            " 37  [Thai baht ]              5699 non-null   object \n",
            " 38  [Turkish lira ]           5637 non-null   float64\n",
            " 39  [US dollar ]              5699 non-null   object \n",
            " 40  [South African rand ]     5699 non-null   object \n",
            "dtypes: float64(3), object(38)\n",
            "memory usage: 1.8+ MB\n"
          ],
          "name": "stdout"
        }
      ]
    },
    {
      "cell_type": "markdown",
      "metadata": {
        "id": "ZWNNXe8ykjDZ"
      },
      "source": [
        "Following the info, we can see data set has 5699 rows and 41 columns. Some columns have **null values** such as *Cypriot pound, Greek drachma, Iceland krona, Maltese lira, Slovak koruna*"
      ]
    },
    {
      "cell_type": "code",
      "metadata": {
        "colab": {
          "base_uri": "https://localhost:8080/",
          "height": 266
        },
        "id": "FbWrRRoQkD-N",
        "outputId": "3ba2a1ef-8ab1-4444-e62a-b07093c432b9"
      },
      "source": [
        "exchange_rates.head()"
      ],
      "execution_count": 4,
      "outputs": [
        {
          "output_type": "execute_result",
          "data": {
            "text/html": [
              "<div>\n",
              "<style scoped>\n",
              "    .dataframe tbody tr th:only-of-type {\n",
              "        vertical-align: middle;\n",
              "    }\n",
              "\n",
              "    .dataframe tbody tr th {\n",
              "        vertical-align: top;\n",
              "    }\n",
              "\n",
              "    .dataframe thead th {\n",
              "        text-align: right;\n",
              "    }\n",
              "</style>\n",
              "<table border=\"1\" class=\"dataframe\">\n",
              "  <thead>\n",
              "    <tr style=\"text-align: right;\">\n",
              "      <th></th>\n",
              "      <th>Period\\Unit:</th>\n",
              "      <th>[Australian dollar ]</th>\n",
              "      <th>[Bulgarian lev ]</th>\n",
              "      <th>[Brazilian real ]</th>\n",
              "      <th>[Canadian dollar ]</th>\n",
              "      <th>[Swiss franc ]</th>\n",
              "      <th>[Chinese yuan renminbi ]</th>\n",
              "      <th>[Cypriot pound ]</th>\n",
              "      <th>[Czech koruna ]</th>\n",
              "      <th>[Danish krone ]</th>\n",
              "      <th>[Estonian kroon ]</th>\n",
              "      <th>[UK pound sterling ]</th>\n",
              "      <th>[Greek drachma ]</th>\n",
              "      <th>[Hong Kong dollar ]</th>\n",
              "      <th>[Croatian kuna ]</th>\n",
              "      <th>[Hungarian forint ]</th>\n",
              "      <th>[Indonesian rupiah ]</th>\n",
              "      <th>[Israeli shekel ]</th>\n",
              "      <th>[Indian rupee ]</th>\n",
              "      <th>[Iceland krona ]</th>\n",
              "      <th>[Japanese yen ]</th>\n",
              "      <th>[Korean won ]</th>\n",
              "      <th>[Lithuanian litas ]</th>\n",
              "      <th>[Latvian lats ]</th>\n",
              "      <th>[Maltese lira ]</th>\n",
              "      <th>[Mexican peso ]</th>\n",
              "      <th>[Malaysian ringgit ]</th>\n",
              "      <th>[Norwegian krone ]</th>\n",
              "      <th>[New Zealand dollar ]</th>\n",
              "      <th>[Philippine peso ]</th>\n",
              "      <th>[Polish zloty ]</th>\n",
              "      <th>[Romanian leu ]</th>\n",
              "      <th>[Russian rouble ]</th>\n",
              "      <th>[Swedish krona ]</th>\n",
              "      <th>[Singapore dollar ]</th>\n",
              "      <th>[Slovenian tolar ]</th>\n",
              "      <th>[Slovak koruna ]</th>\n",
              "      <th>[Thai baht ]</th>\n",
              "      <th>[Turkish lira ]</th>\n",
              "      <th>[US dollar ]</th>\n",
              "      <th>[South African rand ]</th>\n",
              "    </tr>\n",
              "  </thead>\n",
              "  <tbody>\n",
              "    <tr>\n",
              "      <th>0</th>\n",
              "      <td>2021-01-08</td>\n",
              "      <td>1.5758</td>\n",
              "      <td>1.9558</td>\n",
              "      <td>6.5748</td>\n",
              "      <td>1.5543</td>\n",
              "      <td>1.0827</td>\n",
              "      <td>7.9184</td>\n",
              "      <td>NaN</td>\n",
              "      <td>26.163</td>\n",
              "      <td>7.4369</td>\n",
              "      <td>NaN</td>\n",
              "      <td>0.90128</td>\n",
              "      <td>NaN</td>\n",
              "      <td>9.4982</td>\n",
              "      <td>7.5690</td>\n",
              "      <td>359.62</td>\n",
              "      <td>17247.33</td>\n",
              "      <td>3.8981</td>\n",
              "      <td>89.7975</td>\n",
              "      <td>155.5</td>\n",
              "      <td>127.26</td>\n",
              "      <td>1337.90</td>\n",
              "      <td>NaN</td>\n",
              "      <td>NaN</td>\n",
              "      <td>NaN</td>\n",
              "      <td>24.4718</td>\n",
              "      <td>4.9359</td>\n",
              "      <td>10.2863</td>\n",
              "      <td>1.6883</td>\n",
              "      <td>58.947</td>\n",
              "      <td>4.5113</td>\n",
              "      <td>4.8708</td>\n",
              "      <td>90.8000</td>\n",
              "      <td>10.0510</td>\n",
              "      <td>1.6228</td>\n",
              "      <td>NaN</td>\n",
              "      <td>NaN</td>\n",
              "      <td>36.8480</td>\n",
              "      <td>9.0146</td>\n",
              "      <td>1.2250</td>\n",
              "      <td>18.7212</td>\n",
              "    </tr>\n",
              "    <tr>\n",
              "      <th>1</th>\n",
              "      <td>2021-01-07</td>\n",
              "      <td>1.5836</td>\n",
              "      <td>1.9558</td>\n",
              "      <td>6.5172</td>\n",
              "      <td>1.5601</td>\n",
              "      <td>1.0833</td>\n",
              "      <td>7.9392</td>\n",
              "      <td>NaN</td>\n",
              "      <td>26.147</td>\n",
              "      <td>7.4392</td>\n",
              "      <td>NaN</td>\n",
              "      <td>0.90190</td>\n",
              "      <td>NaN</td>\n",
              "      <td>9.5176</td>\n",
              "      <td>7.5660</td>\n",
              "      <td>357.79</td>\n",
              "      <td>17259.99</td>\n",
              "      <td>3.9027</td>\n",
              "      <td>90.0455</td>\n",
              "      <td>155.3</td>\n",
              "      <td>127.13</td>\n",
              "      <td>1342.29</td>\n",
              "      <td>NaN</td>\n",
              "      <td>NaN</td>\n",
              "      <td>NaN</td>\n",
              "      <td>24.2552</td>\n",
              "      <td>4.9570</td>\n",
              "      <td>10.3435</td>\n",
              "      <td>1.6907</td>\n",
              "      <td>59.043</td>\n",
              "      <td>4.4998</td>\n",
              "      <td>4.8712</td>\n",
              "      <td>91.2000</td>\n",
              "      <td>10.0575</td>\n",
              "      <td>1.6253</td>\n",
              "      <td>NaN</td>\n",
              "      <td>NaN</td>\n",
              "      <td>36.8590</td>\n",
              "      <td>8.9987</td>\n",
              "      <td>1.2276</td>\n",
              "      <td>18.7919</td>\n",
              "    </tr>\n",
              "    <tr>\n",
              "      <th>2</th>\n",
              "      <td>2021-01-06</td>\n",
              "      <td>1.5824</td>\n",
              "      <td>1.9558</td>\n",
              "      <td>6.5119</td>\n",
              "      <td>1.5640</td>\n",
              "      <td>1.0821</td>\n",
              "      <td>7.9653</td>\n",
              "      <td>NaN</td>\n",
              "      <td>26.145</td>\n",
              "      <td>7.4393</td>\n",
              "      <td>NaN</td>\n",
              "      <td>0.90635</td>\n",
              "      <td>NaN</td>\n",
              "      <td>9.5659</td>\n",
              "      <td>7.5595</td>\n",
              "      <td>357.86</td>\n",
              "      <td>17168.20</td>\n",
              "      <td>3.9289</td>\n",
              "      <td>90.2040</td>\n",
              "      <td>156.3</td>\n",
              "      <td>127.03</td>\n",
              "      <td>1339.30</td>\n",
              "      <td>NaN</td>\n",
              "      <td>NaN</td>\n",
              "      <td>NaN</td>\n",
              "      <td>24.3543</td>\n",
              "      <td>4.9482</td>\n",
              "      <td>10.3810</td>\n",
              "      <td>1.6916</td>\n",
              "      <td>59.296</td>\n",
              "      <td>4.5160</td>\n",
              "      <td>4.8720</td>\n",
              "      <td>90.8175</td>\n",
              "      <td>10.0653</td>\n",
              "      <td>1.6246</td>\n",
              "      <td>NaN</td>\n",
              "      <td>NaN</td>\n",
              "      <td>36.9210</td>\n",
              "      <td>9.0554</td>\n",
              "      <td>1.2338</td>\n",
              "      <td>18.5123</td>\n",
              "    </tr>\n",
              "    <tr>\n",
              "      <th>3</th>\n",
              "      <td>2021-01-05</td>\n",
              "      <td>1.5927</td>\n",
              "      <td>1.9558</td>\n",
              "      <td>6.5517</td>\n",
              "      <td>1.5651</td>\n",
              "      <td>1.0803</td>\n",
              "      <td>7.9315</td>\n",
              "      <td>NaN</td>\n",
              "      <td>26.227</td>\n",
              "      <td>7.4387</td>\n",
              "      <td>NaN</td>\n",
              "      <td>0.90333</td>\n",
              "      <td>NaN</td>\n",
              "      <td>9.5136</td>\n",
              "      <td>7.5588</td>\n",
              "      <td>360.27</td>\n",
              "      <td>17075.10</td>\n",
              "      <td>3.9277</td>\n",
              "      <td>89.8670</td>\n",
              "      <td>156.1</td>\n",
              "      <td>126.25</td>\n",
              "      <td>1335.85</td>\n",
              "      <td>NaN</td>\n",
              "      <td>NaN</td>\n",
              "      <td>NaN</td>\n",
              "      <td>24.5860</td>\n",
              "      <td>4.9293</td>\n",
              "      <td>10.4713</td>\n",
              "      <td>1.7036</td>\n",
              "      <td>59.020</td>\n",
              "      <td>4.5473</td>\n",
              "      <td>4.8721</td>\n",
              "      <td>91.6715</td>\n",
              "      <td>10.0570</td>\n",
              "      <td>1.6180</td>\n",
              "      <td>NaN</td>\n",
              "      <td>NaN</td>\n",
              "      <td>36.7760</td>\n",
              "      <td>9.0694</td>\n",
              "      <td>1.2271</td>\n",
              "      <td>18.4194</td>\n",
              "    </tr>\n",
              "    <tr>\n",
              "      <th>4</th>\n",
              "      <td>2021-01-04</td>\n",
              "      <td>1.5928</td>\n",
              "      <td>1.9558</td>\n",
              "      <td>6.3241</td>\n",
              "      <td>1.5621</td>\n",
              "      <td>1.0811</td>\n",
              "      <td>7.9484</td>\n",
              "      <td>NaN</td>\n",
              "      <td>26.141</td>\n",
              "      <td>7.4379</td>\n",
              "      <td>NaN</td>\n",
              "      <td>0.90160</td>\n",
              "      <td>NaN</td>\n",
              "      <td>9.5330</td>\n",
              "      <td>7.5565</td>\n",
              "      <td>361.32</td>\n",
              "      <td>17062.67</td>\n",
              "      <td>3.9430</td>\n",
              "      <td>89.7890</td>\n",
              "      <td>156.1</td>\n",
              "      <td>126.62</td>\n",
              "      <td>1332.03</td>\n",
              "      <td>NaN</td>\n",
              "      <td>NaN</td>\n",
              "      <td>NaN</td>\n",
              "      <td>24.3031</td>\n",
              "      <td>4.9264</td>\n",
              "      <td>10.4440</td>\n",
              "      <td>1.7065</td>\n",
              "      <td>59.058</td>\n",
              "      <td>4.5475</td>\n",
              "      <td>4.8713</td>\n",
              "      <td>90.3420</td>\n",
              "      <td>10.0895</td>\n",
              "      <td>1.6198</td>\n",
              "      <td>NaN</td>\n",
              "      <td>NaN</td>\n",
              "      <td>36.7280</td>\n",
              "      <td>9.0579</td>\n",
              "      <td>1.2296</td>\n",
              "      <td>17.9214</td>\n",
              "    </tr>\n",
              "  </tbody>\n",
              "</table>\n",
              "</div>"
            ],
            "text/plain": [
              "  Period\\Unit: [Australian dollar ]  ... [US dollar ] [South African rand ]\n",
              "0   2021-01-08               1.5758  ...       1.2250               18.7212\n",
              "1   2021-01-07               1.5836  ...       1.2276               18.7919\n",
              "2   2021-01-06               1.5824  ...       1.2338               18.5123\n",
              "3   2021-01-05               1.5927  ...       1.2271               18.4194\n",
              "4   2021-01-04               1.5928  ...       1.2296               17.9214\n",
              "\n",
              "[5 rows x 41 columns]"
            ]
          },
          "metadata": {
            "tags": []
          },
          "execution_count": 4
        }
      ]
    },
    {
      "cell_type": "markdown",
      "metadata": {
        "id": "kuiUR1sQl44N"
      },
      "source": [
        "## **Data Cleaning**"
      ]
    },
    {
      "cell_type": "markdown",
      "metadata": {
        "id": "lFrXATzjtH83"
      },
      "source": [
        "Before we start creating data visualizations, we'll need to do a bit of data cleaning."
      ]
    },
    {
      "cell_type": "markdown",
      "metadata": {
        "id": "9hfybiGws5yY"
      },
      "source": [
        "Our focus the project will be on the exchange rate between the euro and the American dollar"
      ]
    },
    {
      "cell_type": "code",
      "metadata": {
        "id": "cgcfuf5DlubH"
      },
      "source": [
        "exchange_rates.rename(columns={r'Period\\Unit:': 'Time', '[US dollar ]': 'US_dollar'}, inplace=True) # rename the [US dollar ] and Period\\Unit: columns to something easier to type — US_dollar and Time.\n",
        "exchange_rates['Time'] = pd.to_datetime(exchange_rates['Time']) # change the Time column to a datetime data type.\n",
        "exchange_rates.sort_values(by='Time', ascending=True, inplace=True) # sort the values by Times in ascending order\n",
        "exchange_rates.reset_index(drop=True, inplace=True ) # reset the index (and drop the initial index )"
      ],
      "execution_count": 5,
      "outputs": []
    },
    {
      "cell_type": "code",
      "metadata": {
        "colab": {
          "base_uri": "https://localhost:8080/",
          "height": 350
        },
        "id": "XRlloSlfoa7x",
        "outputId": "a606e6fe-d207-49fc-8973-bb65a8188026"
      },
      "source": [
        "exchange_rates.head()"
      ],
      "execution_count": 6,
      "outputs": [
        {
          "output_type": "execute_result",
          "data": {
            "text/html": [
              "<div>\n",
              "<style scoped>\n",
              "    .dataframe tbody tr th:only-of-type {\n",
              "        vertical-align: middle;\n",
              "    }\n",
              "\n",
              "    .dataframe tbody tr th {\n",
              "        vertical-align: top;\n",
              "    }\n",
              "\n",
              "    .dataframe thead th {\n",
              "        text-align: right;\n",
              "    }\n",
              "</style>\n",
              "<table border=\"1\" class=\"dataframe\">\n",
              "  <thead>\n",
              "    <tr style=\"text-align: right;\">\n",
              "      <th></th>\n",
              "      <th>Time</th>\n",
              "      <th>[Australian dollar ]</th>\n",
              "      <th>[Bulgarian lev ]</th>\n",
              "      <th>[Brazilian real ]</th>\n",
              "      <th>[Canadian dollar ]</th>\n",
              "      <th>[Swiss franc ]</th>\n",
              "      <th>[Chinese yuan renminbi ]</th>\n",
              "      <th>[Cypriot pound ]</th>\n",
              "      <th>[Czech koruna ]</th>\n",
              "      <th>[Danish krone ]</th>\n",
              "      <th>[Estonian kroon ]</th>\n",
              "      <th>[UK pound sterling ]</th>\n",
              "      <th>[Greek drachma ]</th>\n",
              "      <th>[Hong Kong dollar ]</th>\n",
              "      <th>[Croatian kuna ]</th>\n",
              "      <th>[Hungarian forint ]</th>\n",
              "      <th>[Indonesian rupiah ]</th>\n",
              "      <th>[Israeli shekel ]</th>\n",
              "      <th>[Indian rupee ]</th>\n",
              "      <th>[Iceland krona ]</th>\n",
              "      <th>[Japanese yen ]</th>\n",
              "      <th>[Korean won ]</th>\n",
              "      <th>[Lithuanian litas ]</th>\n",
              "      <th>[Latvian lats ]</th>\n",
              "      <th>[Maltese lira ]</th>\n",
              "      <th>[Mexican peso ]</th>\n",
              "      <th>[Malaysian ringgit ]</th>\n",
              "      <th>[Norwegian krone ]</th>\n",
              "      <th>[New Zealand dollar ]</th>\n",
              "      <th>[Philippine peso ]</th>\n",
              "      <th>[Polish zloty ]</th>\n",
              "      <th>[Romanian leu ]</th>\n",
              "      <th>[Russian rouble ]</th>\n",
              "      <th>[Swedish krona ]</th>\n",
              "      <th>[Singapore dollar ]</th>\n",
              "      <th>[Slovenian tolar ]</th>\n",
              "      <th>[Slovak koruna ]</th>\n",
              "      <th>[Thai baht ]</th>\n",
              "      <th>[Turkish lira ]</th>\n",
              "      <th>US_dollar</th>\n",
              "      <th>[South African rand ]</th>\n",
              "    </tr>\n",
              "  </thead>\n",
              "  <tbody>\n",
              "    <tr>\n",
              "      <th>0</th>\n",
              "      <td>1999-01-04</td>\n",
              "      <td>1.9100</td>\n",
              "      <td>NaN</td>\n",
              "      <td>NaN</td>\n",
              "      <td>1.8004</td>\n",
              "      <td>1.6168</td>\n",
              "      <td>NaN</td>\n",
              "      <td>0.58231</td>\n",
              "      <td>35.107</td>\n",
              "      <td>7.4501</td>\n",
              "      <td>15.6466</td>\n",
              "      <td>0.71110</td>\n",
              "      <td>327.15</td>\n",
              "      <td>9.1332</td>\n",
              "      <td>NaN</td>\n",
              "      <td>251.48</td>\n",
              "      <td>9433.61</td>\n",
              "      <td>NaN</td>\n",
              "      <td>NaN</td>\n",
              "      <td>81.48</td>\n",
              "      <td>133.73</td>\n",
              "      <td>1398.59</td>\n",
              "      <td>4.71700</td>\n",
              "      <td>0.6668</td>\n",
              "      <td>0.4432</td>\n",
              "      <td>11.6446</td>\n",
              "      <td>4.4798</td>\n",
              "      <td>8.8550</td>\n",
              "      <td>2.2229</td>\n",
              "      <td>45.510</td>\n",
              "      <td>4.0712</td>\n",
              "      <td>1.3111</td>\n",
              "      <td>25.2875</td>\n",
              "      <td>9.4696</td>\n",
              "      <td>1.9554</td>\n",
              "      <td>189.0450</td>\n",
              "      <td>42.991</td>\n",
              "      <td>42.6799</td>\n",
              "      <td>0.3723</td>\n",
              "      <td>1.1789</td>\n",
              "      <td>6.9358</td>\n",
              "    </tr>\n",
              "    <tr>\n",
              "      <th>1</th>\n",
              "      <td>1999-01-05</td>\n",
              "      <td>1.8944</td>\n",
              "      <td>NaN</td>\n",
              "      <td>NaN</td>\n",
              "      <td>1.7965</td>\n",
              "      <td>1.6123</td>\n",
              "      <td>NaN</td>\n",
              "      <td>0.58230</td>\n",
              "      <td>34.917</td>\n",
              "      <td>7.4495</td>\n",
              "      <td>15.6466</td>\n",
              "      <td>0.71220</td>\n",
              "      <td>324.70</td>\n",
              "      <td>9.1341</td>\n",
              "      <td>NaN</td>\n",
              "      <td>250.80</td>\n",
              "      <td>9314.51</td>\n",
              "      <td>NaN</td>\n",
              "      <td>NaN</td>\n",
              "      <td>81.53</td>\n",
              "      <td>130.96</td>\n",
              "      <td>1373.01</td>\n",
              "      <td>4.71740</td>\n",
              "      <td>0.6657</td>\n",
              "      <td>0.4432</td>\n",
              "      <td>11.5960</td>\n",
              "      <td>4.4805</td>\n",
              "      <td>8.7745</td>\n",
              "      <td>2.2011</td>\n",
              "      <td>44.745</td>\n",
              "      <td>4.0245</td>\n",
              "      <td>1.3168</td>\n",
              "      <td>26.5876</td>\n",
              "      <td>9.4025</td>\n",
              "      <td>1.9655</td>\n",
              "      <td>188.7750</td>\n",
              "      <td>42.848</td>\n",
              "      <td>42.5048</td>\n",
              "      <td>0.3728</td>\n",
              "      <td>1.1790</td>\n",
              "      <td>6.7975</td>\n",
              "    </tr>\n",
              "    <tr>\n",
              "      <th>2</th>\n",
              "      <td>1999-01-06</td>\n",
              "      <td>1.8820</td>\n",
              "      <td>NaN</td>\n",
              "      <td>NaN</td>\n",
              "      <td>1.7711</td>\n",
              "      <td>1.6116</td>\n",
              "      <td>NaN</td>\n",
              "      <td>0.58200</td>\n",
              "      <td>34.850</td>\n",
              "      <td>7.4452</td>\n",
              "      <td>15.6466</td>\n",
              "      <td>0.70760</td>\n",
              "      <td>324.72</td>\n",
              "      <td>9.1010</td>\n",
              "      <td>NaN</td>\n",
              "      <td>250.67</td>\n",
              "      <td>9337.68</td>\n",
              "      <td>NaN</td>\n",
              "      <td>NaN</td>\n",
              "      <td>81.54</td>\n",
              "      <td>131.42</td>\n",
              "      <td>1359.54</td>\n",
              "      <td>4.69940</td>\n",
              "      <td>0.6649</td>\n",
              "      <td>0.4420</td>\n",
              "      <td>11.4705</td>\n",
              "      <td>4.4637</td>\n",
              "      <td>8.7335</td>\n",
              "      <td>2.1890</td>\n",
              "      <td>44.872</td>\n",
              "      <td>4.0065</td>\n",
              "      <td>1.3168</td>\n",
              "      <td>27.4315</td>\n",
              "      <td>9.3050</td>\n",
              "      <td>1.9699</td>\n",
              "      <td>188.7000</td>\n",
              "      <td>42.778</td>\n",
              "      <td>42.6949</td>\n",
              "      <td>0.3722</td>\n",
              "      <td>1.1743</td>\n",
              "      <td>6.7307</td>\n",
              "    </tr>\n",
              "    <tr>\n",
              "      <th>3</th>\n",
              "      <td>1999-01-07</td>\n",
              "      <td>1.8474</td>\n",
              "      <td>NaN</td>\n",
              "      <td>NaN</td>\n",
              "      <td>1.7602</td>\n",
              "      <td>1.6165</td>\n",
              "      <td>NaN</td>\n",
              "      <td>0.58187</td>\n",
              "      <td>34.886</td>\n",
              "      <td>7.4431</td>\n",
              "      <td>15.6466</td>\n",
              "      <td>0.70585</td>\n",
              "      <td>324.40</td>\n",
              "      <td>9.0131</td>\n",
              "      <td>NaN</td>\n",
              "      <td>250.09</td>\n",
              "      <td>9218.77</td>\n",
              "      <td>NaN</td>\n",
              "      <td>NaN</td>\n",
              "      <td>81.06</td>\n",
              "      <td>129.43</td>\n",
              "      <td>1337.16</td>\n",
              "      <td>4.65480</td>\n",
              "      <td>0.6627</td>\n",
              "      <td>0.4413</td>\n",
              "      <td>11.5511</td>\n",
              "      <td>4.4203</td>\n",
              "      <td>8.6295</td>\n",
              "      <td>2.1531</td>\n",
              "      <td>44.436</td>\n",
              "      <td>4.0165</td>\n",
              "      <td>1.3092</td>\n",
              "      <td>26.9876</td>\n",
              "      <td>9.1800</td>\n",
              "      <td>1.9436</td>\n",
              "      <td>188.8000</td>\n",
              "      <td>42.765</td>\n",
              "      <td>42.1678</td>\n",
              "      <td>0.3701</td>\n",
              "      <td>1.1632</td>\n",
              "      <td>6.8283</td>\n",
              "    </tr>\n",
              "    <tr>\n",
              "      <th>4</th>\n",
              "      <td>1999-01-08</td>\n",
              "      <td>1.8406</td>\n",
              "      <td>NaN</td>\n",
              "      <td>NaN</td>\n",
              "      <td>1.7643</td>\n",
              "      <td>1.6138</td>\n",
              "      <td>NaN</td>\n",
              "      <td>0.58187</td>\n",
              "      <td>34.938</td>\n",
              "      <td>7.4433</td>\n",
              "      <td>15.6466</td>\n",
              "      <td>0.70940</td>\n",
              "      <td>324.00</td>\n",
              "      <td>9.0302</td>\n",
              "      <td>NaN</td>\n",
              "      <td>250.15</td>\n",
              "      <td>9321.63</td>\n",
              "      <td>NaN</td>\n",
              "      <td>NaN</td>\n",
              "      <td>80.99</td>\n",
              "      <td>130.09</td>\n",
              "      <td>1366.73</td>\n",
              "      <td>4.66430</td>\n",
              "      <td>0.6654</td>\n",
              "      <td>0.4419</td>\n",
              "      <td>11.4414</td>\n",
              "      <td>4.4295</td>\n",
              "      <td>8.5900</td>\n",
              "      <td>2.1557</td>\n",
              "      <td>44.295</td>\n",
              "      <td>4.0363</td>\n",
              "      <td>1.3143</td>\n",
              "      <td>27.2075</td>\n",
              "      <td>9.1650</td>\n",
              "      <td>1.9537</td>\n",
              "      <td>188.8400</td>\n",
              "      <td>42.560</td>\n",
              "      <td>42.5590</td>\n",
              "      <td>0.3718</td>\n",
              "      <td>1.1659</td>\n",
              "      <td>6.7855</td>\n",
              "    </tr>\n",
              "  </tbody>\n",
              "</table>\n",
              "</div>"
            ],
            "text/plain": [
              "        Time [Australian dollar ]  ... US_dollar [South African rand ]\n",
              "0 1999-01-04               1.9100  ...    1.1789                6.9358\n",
              "1 1999-01-05               1.8944  ...    1.1790                6.7975\n",
              "2 1999-01-06               1.8820  ...    1.1743                6.7307\n",
              "3 1999-01-07               1.8474  ...    1.1632                6.8283\n",
              "4 1999-01-08               1.8406  ...    1.1659                6.7855\n",
              "\n",
              "[5 rows x 41 columns]"
            ]
          },
          "metadata": {
            "tags": []
          },
          "execution_count": 6
        }
      ]
    },
    {
      "cell_type": "code",
      "metadata": {
        "colab": {
          "base_uri": "https://localhost:8080/"
        },
        "id": "cVgPz-eosiq6",
        "outputId": "ab613c76-851f-4b06-e42d-1a277b8d0816"
      },
      "source": [
        "euro_to_dollar = exchange_rates[['Time', 'US_dollar']].copy() #create Dataframe only have columns Time and US_dollar \n",
        "euro_to_dollar['US_dollar'].value_counts() "
      ],
      "execution_count": 7,
      "outputs": [
        {
          "output_type": "execute_result",
          "data": {
            "text/plain": [
              "-         62\n",
              "1.2276     9\n",
              "1.1215     8\n",
              "1.1305     7\n",
              "1.1218     6\n",
              "          ..\n",
              "1.3564     1\n",
              "1.2181     1\n",
              "1.4735     1\n",
              "1.1583     1\n",
              "1.2900     1\n",
              "Name: US_dollar, Length: 3528, dtype: int64"
            ]
          },
          "metadata": {
            "tags": []
          },
          "execution_count": 7
        }
      ]
    },
    {
      "cell_type": "markdown",
      "metadata": {
        "id": "kChEwiQU4SFA"
      },
      "source": [
        "We can see dataframe have 62 values '-' so we need to drop all rows have value column US dollar is '-'\n",
        "\n",
        "\n",
        "\n",
        "\n"
      ]
    },
    {
      "cell_type": "code",
      "metadata": {
        "id": "vDqVOlhD6Q-8"
      },
      "source": [
        "index_delete_rows = euro_to_dollar[euro_to_dollar['US_dollar'] == '-'].index # find the index of rows where the - character appears in the US_dollar column\n",
        "euro_to_dollar.drop(index_delete_rows, inplace = True) # Drop all the rows where the - character appears in the US_dollar column\n",
        "euro_to_dollar['US_dollar'] = euro_to_dollar['US_dollar'].astype('float') # convert US_dollar column to float data type\n",
        "\n",
        "# euro_to_dollar = euro_to_dollar[euro_to_dollar['US_dollar'] != '-']   # Another way"
      ],
      "execution_count": 8,
      "outputs": []
    },
    {
      "cell_type": "code",
      "metadata": {
        "colab": {
          "base_uri": "https://localhost:8080/"
        },
        "id": "BuGiMfnY55z1",
        "outputId": "7539ffb5-b6dc-47cb-bfe8-cc45b1b7af60"
      },
      "source": [
        "euro_to_dollar['US_dollar'].value_counts()"
      ],
      "execution_count": 9,
      "outputs": [
        {
          "output_type": "execute_result",
          "data": {
            "text/plain": [
              "1.2276    9\n",
              "1.1215    8\n",
              "1.1305    7\n",
              "1.1268    6\n",
              "1.3373    6\n",
              "         ..\n",
              "1.4639    1\n",
              "1.5206    1\n",
              "1.3272    1\n",
              "0.8591    1\n",
              "0.9375    1\n",
              "Name: US_dollar, Length: 3527, dtype: int64"
            ]
          },
          "metadata": {
            "tags": []
          },
          "execution_count": 9
        }
      ]
    },
    {
      "cell_type": "markdown",
      "metadata": {
        "id": "0D44TBvO91HD"
      },
      "source": [
        "## **Rolling mean**"
      ]
    },
    {
      "cell_type": "markdown",
      "metadata": {
        "id": "-oB1cifE97Z-"
      },
      "source": [
        "Now that we're finished cleaning the data, we'll generate a line plot to visualize the evolution of the euro-dollar exchange rate."
      ]
    },
    {
      "cell_type": "code",
      "metadata": {
        "colab": {
          "base_uri": "https://localhost:8080/"
        },
        "id": "PMJrE59sAC6D",
        "outputId": "b3723f03-4d9d-4d0d-b410-58b1838639fc"
      },
      "source": [
        "euro_to_dollar['US_dollar'].dtype"
      ],
      "execution_count": 10,
      "outputs": [
        {
          "output_type": "execute_result",
          "data": {
            "text/plain": [
              "dtype('float64')"
            ]
          },
          "metadata": {
            "tags": []
          },
          "execution_count": 10
        }
      ]
    },
    {
      "cell_type": "code",
      "metadata": {
        "colab": {
          "base_uri": "https://localhost:8080/",
          "height": 265
        },
        "id": "eor-xtz17jih",
        "outputId": "45058bed-96cf-43d1-d2aa-9078f01de8ee"
      },
      "source": [
        "import matplotlib.pyplot as plt\n",
        "\n",
        "fig, ax = plt.subplots()\n",
        "ax.plot(euro_to_dollar['Time'], euro_to_dollar['US_dollar'])\n",
        "plt.show()"
      ],
      "execution_count": 11,
      "outputs": [
        {
          "output_type": "display_data",
          "data": {
            "image/png": "[encoded data removed]",
            "text/plain": [
              "<Figure size 432x288 with 1 Axes>"
            ]
          },
          "metadata": {
            "tags": [],
            "needs_background": "light"
          }
        }
      ]
    },
    {
      "cell_type": "markdown",
      "metadata": {
        "id": "_hij3lI9HQ9l"
      },
      "source": [
        "If we look at the line's shape, we see many small wiggles — rather than seeing a smooth line. The wiggles, however, have meaning: : they are the visual representation of the daily variation in the exchange rate. The rate goes up and down, up and down again, day to day. The rate only shows clear upward or downward trends in the longer run (months or years)."
      ]
    },
    {
      "cell_type": "code",
      "metadata": {
        "colab": {
          "base_uri": "https://localhost:8080/",
          "height": 492
        },
        "id": "oJN8ZpBM-Say",
        "outputId": "75d1ef7c-42ee-435c-9af7-27a138a74a29"
      },
      "source": [
        "fig, ax = plt.subplots(nrows=3, ncols=2, figsize=(9,7))\n",
        "# calculate the mean for each day using the pandas.Series.rolling().mean()\n",
        "# The rolling window can take various values — some common values include seven (one week), 30 (one month), 50 or 100 days, or 365 days (one year).\n",
        "ax[0,0].plot(euro_to_dollar['Time'], euro_to_dollar['US_dollar'])\n",
        "ax[0,0].set_title('Original values', weight='bold')\n",
        "\n",
        "ax[0,1].plot(euro_to_dollar['Time'], euro_to_dollar['US_dollar'].rolling(7).mean())\n",
        "ax[0,1].set_title('Rolling Window:7', weight='bold')\n",
        "\n",
        "ax[1,0].plot(euro_to_dollar['Time'], euro_to_dollar['US_dollar'].rolling(30).mean())\n",
        "ax[1,0].set_title('Rolling Window:30', weight='bold')\n",
        "\n",
        "ax[1,1].plot(euro_to_dollar['Time'], euro_to_dollar['US_dollar'].rolling(50).mean())\n",
        "ax[1,1].set_title('Rolling Window:50', weight='bold')\n",
        "\n",
        "ax[2,0].plot(euro_to_dollar['Time'], euro_to_dollar['US_dollar'].rolling(100).mean())\n",
        "ax[2,0].set_title('Rolling Window:100', weight='bold')\n",
        "\n",
        "ax[2,1].plot(euro_to_dollar['Time'], euro_to_dollar['US_dollar'].rolling(365).mean())\n",
        "ax[2,1].set_title('Rolling Window:365', weight='bold')\n",
        "\n",
        "fig.tight_layout(pad=3.0) # set the spacing between subplots\n",
        "plt.plot()"
      ],
      "execution_count": 12,
      "outputs": [
        {
          "output_type": "execute_result",
          "data": {
            "text/plain": [
              "[]"
            ]
          },
          "metadata": {
            "tags": []
          },
          "execution_count": 12
        },
        {
          "output_type": "display_data",
          "data": {
            "image/png": "[encoded data removed]",
            "text/plain": [
              "<Figure size 648x504 with 6 Axes>"
            ]
          },
          "metadata": {
            "tags": [],
            "needs_background": "light"
          }
        }
      ]
    },
    {
      "cell_type": "code",
      "metadata": {
        "id": "pXwXZx80DbFA",
        "colab": {
          "base_uri": "https://localhost:8080/",
          "height": 195
        },
        "outputId": "31b6b0da-f122-4a96-9922-477825084464"
      },
      "source": [
        "euro_to_dollar['rolling_mean'] = euro_to_dollar['US_dollar'].rolling(30).mean()\n",
        "euro_to_dollar.head()"
      ],
      "execution_count": 13,
      "outputs": [
        {
          "output_type": "execute_result",
          "data": {
            "text/html": [
              "<div>\n",
              "<style scoped>\n",
              "    .dataframe tbody tr th:only-of-type {\n",
              "        vertical-align: middle;\n",
              "    }\n",
              "\n",
              "    .dataframe tbody tr th {\n",
              "        vertical-align: top;\n",
              "    }\n",
              "\n",
              "    .dataframe thead th {\n",
              "        text-align: right;\n",
              "    }\n",
              "</style>\n",
              "<table border=\"1\" class=\"dataframe\">\n",
              "  <thead>\n",
              "    <tr style=\"text-align: right;\">\n",
              "      <th></th>\n",
              "      <th>Time</th>\n",
              "      <th>US_dollar</th>\n",
              "      <th>rolling_mean</th>\n",
              "    </tr>\n",
              "  </thead>\n",
              "  <tbody>\n",
              "    <tr>\n",
              "      <th>0</th>\n",
              "      <td>1999-01-04</td>\n",
              "      <td>1.1789</td>\n",
              "      <td>NaN</td>\n",
              "    </tr>\n",
              "    <tr>\n",
              "      <th>1</th>\n",
              "      <td>1999-01-05</td>\n",
              "      <td>1.1790</td>\n",
              "      <td>NaN</td>\n",
              "    </tr>\n",
              "    <tr>\n",
              "      <th>2</th>\n",
              "      <td>1999-01-06</td>\n",
              "      <td>1.1743</td>\n",
              "      <td>NaN</td>\n",
              "    </tr>\n",
              "    <tr>\n",
              "      <th>3</th>\n",
              "      <td>1999-01-07</td>\n",
              "      <td>1.1632</td>\n",
              "      <td>NaN</td>\n",
              "    </tr>\n",
              "    <tr>\n",
              "      <th>4</th>\n",
              "      <td>1999-01-08</td>\n",
              "      <td>1.1659</td>\n",
              "      <td>NaN</td>\n",
              "    </tr>\n",
              "  </tbody>\n",
              "</table>\n",
              "</div>"
            ],
            "text/plain": [
              "        Time  US_dollar  rolling_mean\n",
              "0 1999-01-04     1.1789           NaN\n",
              "1 1999-01-05     1.1790           NaN\n",
              "2 1999-01-06     1.1743           NaN\n",
              "3 1999-01-07     1.1632           NaN\n",
              "4 1999-01-08     1.1659           NaN"
            ]
          },
          "metadata": {
            "tags": []
          },
          "execution_count": 13
        }
      ]
    },
    {
      "cell_type": "markdown",
      "metadata": {
        "id": "X7oWeImr6giJ"
      },
      "source": [
        "**Coming Up With an Idea**\n",
        "Here are a few story ideas for our data:\n",
        "\n",
        "* We show how the euro-dollar rate has changed during the coronavirus pandemic. We can show the 2020 data and the 2016-2019 data as a baseline. We can use a line plot.\n",
        "* We show how the euro-dollar rate changed during the 2007-2008's financial crisis. We can also show the data for 2016 and 2009 for comparison. We can use a line plot.\n",
        "* We show comparatively how the euro-dollar rate changed under the last three US presidents (George W. Bush (2001-2009), Barack Obama (2009-2017), and Donald Trump (2017-2021)). We can use a line plot."
      ]
    },
    {
      "cell_type": "markdown",
      "metadata": {
        "id": "m5um_ZyO6wXV"
      },
      "source": [
        "## **Storytelling Data Visualization**"
      ]
    },
    {
      "cell_type": "markdown",
      "metadata": {
        "id": "mzJmzp5K69u-"
      },
      "source": [
        "### **Financial Crisis**"
      ]
    },
    {
      "cell_type": "code",
      "metadata": {
        "colab": {
          "base_uri": "https://localhost:8080/"
        },
        "id": "vjRXPL2w3szn",
        "outputId": "b76dc8ff-11e9-4410-a201-56e88440c6d7"
      },
      "source": [
        "financial_cricis = euro_to_dollar[(euro_to_dollar['Time'].dt.year >= 2006) & (euro_to_dollar['Time'].dt.year <= 2009)].copy()\n",
        "financial_cricis_07_08 = euro_to_dollar[(euro_to_dollar['Time'].dt.year >= 2007) & (euro_to_dollar['Time'].dt.year <= 2008)].copy()\n",
        "\n",
        "print(financial_cricis)\n",
        "print('\\n')\n",
        "print(financial_cricis_07_08)"
      ],
      "execution_count": 14,
      "outputs": [
        {
          "output_type": "stream",
          "text": [
            "           Time  US_dollar  rolling_mean\n",
            "1825 2006-01-02     1.1826      1.183087\n",
            "1826 2006-01-03     1.1875      1.183300\n",
            "1827 2006-01-04     1.2083      1.184573\n",
            "1828 2006-01-05     1.2088      1.185613\n",
            "1829 2006-01-06     1.2093      1.186647\n",
            "...         ...        ...           ...\n",
            "2863 2009-12-24     1.4398      1.477640\n",
            "2865 2009-12-28     1.4405      1.476097\n",
            "2866 2009-12-29     1.4433      1.474323\n",
            "2867 2009-12-30     1.4338      1.472533\n",
            "2868 2009-12-31     1.4406      1.470697\n",
            "\n",
            "[1022 rows x 3 columns]\n",
            "\n",
            "\n",
            "           Time  US_dollar  rolling_mean\n",
            "2086 2007-01-02     1.3270      1.314257\n",
            "2087 2007-01-03     1.3231      1.315780\n",
            "2088 2007-01-04     1.3106      1.316663\n",
            "2089 2007-01-05     1.3084      1.317563\n",
            "2090 2007-01-08     1.3006      1.317963\n",
            "...         ...        ...           ...\n",
            "2601 2008-12-23     1.3978      1.303717\n",
            "2602 2008-12-24     1.4005      1.308633\n",
            "2605 2008-12-29     1.4270      1.314450\n",
            "2606 2008-12-30     1.4098      1.319193\n",
            "2607 2008-12-31     1.3917      1.323383\n",
            "\n",
            "[511 rows x 3 columns]\n"
          ],
          "name": "stdout"
        }
      ]
    },
    {
      "cell_type": "code",
      "metadata": {
        "colab": {
          "base_uri": "https://localhost:8080/",
          "height": 288
        },
        "id": "8FEg-cIE71Pk",
        "outputId": "615bcc7a-23bb-47f8-8a76-e1f41212cd18"
      },
      "source": [
        "import matplotlib.style as style\n",
        "\n",
        "style.use('fivethirtyeight')\n",
        "fig, ax = plt.subplots(figsize=(18,6))\n",
        "\n",
        "ax.plot(financial_cricis['Time'], financial_cricis['rolling_mean'], color='#00ff00', alpha=0.3, linewidth=2)\n",
        "ax.plot(financial_cricis_07_08['Time'], financial_cricis_07_08['rolling_mean'], color='#ff0000', linewidth=3)\n",
        "ax.grid(alpha=0.5)\n",
        "\n",
        "ax.text(x=732200, y=1.7, s='Euro-USD rate peaked at 1.59 during 2007-2008\\'s financial cricis',\n",
        "         weight='bold', size=25)    # Set title \n",
        "ax.text(x=732200, y=1.65, s='Euro-USD exchange rates between 2006 and 2010', size=22) # Set subtitle\n",
        "\n",
        "ax.set_xticklabels([]) # Set xtick labels\n",
        "x_coords = [732280, 732645, 733010, 733374, 733740]\n",
        "year_labels = [2006, 2007, 2008, 2009, 2010]\n",
        "\n",
        "for x_coord, year in zip(x_coords, year_labels):\n",
        "    ax.text(x_coord, 1.15, '{}'.format(year), size=18, alpha=0.5)\n",
        "\n",
        "# ax.text(732280, 1.15, '2006', size=18, alpha=0.5)\n",
        "# ax.text(732645, 1.15, '2007', size=18, alpha=0.5)\n",
        "# ax.text(733010, 1.15, '2008', size=18, alpha=0.5)\n",
        "# ax.text(733374, 1.15, '2009', size=18, alpha=0.5)\n",
        "# ax.text(733740, 1.15, '2010', size=18, alpha=0.5)\n",
        "\n",
        "ax.set_yticklabels([])  # Set ytick labels\n",
        "y_coords = [1.2, 1.3, 1.4, 1.5]\n",
        "\n",
        "for y_coord in y_coords:\n",
        "    ax.text(732200., y_coord, '{}'.format(y_coord), size=18, alpha=0.5)\n",
        "\n",
        "# ax.text(732200, 1.2, '1.2', size=18, alpha=0.5)\n",
        "# ax.text(732200, 1.3, '1.3', size=18, alpha=0.5)\n",
        "# ax.text(732200, 1.4, '1.4', size=18, alpha=0.5)\n",
        "# ax.text(732200, 1.5, '1.5', size=18, alpha=0.5)\n",
        "\n",
        "ax.set_ylim(1.15,1.6) # Set y limit\n",
        "\n",
        "ax.text(732200, 1.1, '©DATAQUEST' + ' '*160 + 'Source: European Central Bank', \n",
        "        color='#f0f0f0', backgroundcolor='#4d4d4d', size=16)\n",
        "\n",
        "# ax.axvline(x=733224,ymin=0.11 ,linewidth=100, color='#808080', alpha=0.5)\n",
        "ax.axhline(y=1.4, xmin=0.55, xmax=0.66, linewidth=310, color='#808080', alpha=0.5)\n",
        "\n",
        "plt.show()"
      ],
      "execution_count": 19,
      "outputs": [
        {
          "output_type": "display_data",
          "data": {
            "image/png": "[encoded data removed]",
            "text/plain": [
              "<Figure size 1296x432 with 1 Axes>"
            ]
          },
          "metadata": {
            "tags": []
          }
        }
      ]
    },
    {
      "cell_type": "code",
      "metadata": {
        "colab": {
          "base_uri": "https://localhost:8080/"
        },
        "id": "kJbW6TE8-yWV",
        "outputId": "e2f6a33f-6376-4b88-b318-c648fe3eb66f"
      },
      "source": [
        "ax.get_xticks()"
      ],
      "execution_count": 17,
      "outputs": [
        {
          "output_type": "execute_result",
          "data": {
            "text/plain": [
              "array([732312., 732493., 732677., 732858., 733042., 733224., 733408.,\n",
              "       733589., 733773.])"
            ]
          },
          "metadata": {
            "tags": []
          },
          "execution_count": 17
        }
      ]
    },
    {
      "cell_type": "code",
      "metadata": {
        "colab": {
          "base_uri": "https://localhost:8080/"
        },
        "id": "2PNcnkDOBUwT",
        "outputId": "d99ca60e-ad84-4cc5-858a-d8850cb74a1a"
      },
      "source": [
        "ax.get_yticks()"
      ],
      "execution_count": 18,
      "outputs": [
        {
          "output_type": "execute_result",
          "data": {
            "text/plain": [
              "array([1.1, 1.2, 1.3, 1.4, 1.5, 1.6])"
            ]
          },
          "metadata": {
            "tags": []
          },
          "execution_count": 18
        }
      ]
    },
    {
      "cell_type": "code",
      "metadata": {
        "id": "uvfCNwYlClJy"
      },
      "source": [
        ""
      ],
      "execution_count": null,
      "outputs": []
    }
  ]
}