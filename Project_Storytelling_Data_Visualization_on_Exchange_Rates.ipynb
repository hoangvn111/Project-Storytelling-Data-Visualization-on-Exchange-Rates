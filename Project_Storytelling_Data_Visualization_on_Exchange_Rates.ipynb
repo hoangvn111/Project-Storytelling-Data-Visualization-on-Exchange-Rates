{
  "nbformat": 4,
  "nbformat_minor": 0,
  "metadata": {
    "colab": {
      "name": "Project: Storytelling Data Visualization on Exchange Rates.ipynb",
      "provenance": [],
      "authorship_tag": "ABX9TyO3xHkqsF54cFvjlnuQ07Cw",
      "include_colab_link": true
    },
    "kernelspec": {
      "name": "python3",
      "display_name": "Python 3"
    },
    "language_info": {
      "name": "python"
    }
  },
  "cells": [
    {
      "cell_type": "markdown",
      "metadata": {
        "id": "view-in-github",
        "colab_type": "text"
      },
      "source": [
        "<a href=\"https://colab.research.google.com/github/hoangvn111/Project-Storytelling-Data-Visualization-on-Exchange-Rates/blob/master/Project_Storytelling_Data_Visualization_on_Exchange_Rates.ipynb\" target=\"_parent\"><img src=\"https://colab.research.google.com/assets/colab-badge.svg\" alt=\"Open In Colab\"/></a>"
      ]
    },
    {
      "cell_type": "code",
      "metadata": {
        "id": "Xt1ZkitoeABv",
        "colab": {
          "base_uri": "https://localhost:8080/"
        },
        "outputId": "8fa86b1a-5e8e-4905-ba20-784820a0e027"
      },
      "source": [
        "from google.colab import drive\n",
        "drive.mount('/content/drive')"
      ],
      "execution_count": 1,
      "outputs": [
        {
          "output_type": "stream",
          "text": [
            "Drive already mounted at /content/drive; to attempt to forcibly remount, call drive.mount(\"/content/drive\", force_remount=True).\n"
          ],
          "name": "stdout"
        }
      ]
    },
    {
      "cell_type": "markdown",
      "metadata": {
        "id": "vqlZ5IB6hDe5"
      },
      "source": [
        "# **Project: Storytelling Data Visualization on Exchange Rates**"
      ]
    },
    {
      "cell_type": "markdown",
      "metadata": {
        "id": "kUyh-Ds9iBV2"
      },
      "source": [
        "**Content**\n",
        "\n",
        "Reference rates are euro foreign exchange rates observed on major foreign exchange trading venues at a certain point in time = they are the price of one currency in terms of another currency. The rates are usually updated around 16:00 CET on every working day, except on TARGET closing days.\n",
        "\n",
        "Dataset contains date and Euro rate corresponding to Australian dollar, Bulgarian lev, Brazilian real, Canadian dollar, Swiss franc, Chinese yuan renminbi, Cypriot pound, Czech koruna, Danish krone, Estonian kroon, UK pound sterling, Greek drachma, Hong Kong dollar, Croatian kuna, Hungarian forint, Indonesian rupiah, Israeli shekel, Indian rupee, Iceland krona, Japanese yen, Korean won, Lithuanian litas, Latvian lats, Maltese lira, Mexican peso, Malaysian ringgit, Norwegian krone, New Zealand dollar, Philippine peso, Polish zloty, Romanian leu, Russian rouble, Swedish krona, Singapore dollar, Slovenian tolar, Slovak koruna, Thai baht, Turkish lira, US dollar, South African rand.\n",
        "\n",
        "* Some currency in the list doesn't exist anymore; it was replaced by the Euro €: Cypriot pound (2007), Estonian kroon (2011), Greek drachma (2002), Lithuanian litas (2015), Latvian lats (2014), Maltese lira (2008), Slovenian tolar (2007), Slovak koruna (2009).\n",
        "* Bulgarian lev since 2002 is pegged to the Euro: 1 € = 1.9558 leva.\n",
        "\n",
        "Daria Chemkaeva put together the data set and made it available on [Kaggle](https://www.kaggle.com/lsind18/euro-exchange-daily-rates-19992020) "
      ]
    },
    {
      "cell_type": "markdown",
      "metadata": {
        "id": "3xEUyG4PiWMn"
      },
      "source": [
        "**Aim of this project**, we focused on explanatory data visualization.\n"
      ]
    },
    {
      "cell_type": "code",
      "metadata": {
        "id": "BQljlpiegmHB"
      },
      "source": [
        "import pandas as pd\n",
        "\n",
        "exchange_rates = pd.read_csv('/content/drive/MyDrive/my_datasets/Project: Storytelling Data Visualization on Exchange Rates/euro-daily-hist_1999_2020.csv')"
      ],
      "execution_count": 2,
      "outputs": []
    },
    {
      "cell_type": "code",
      "metadata": {
        "id": "4ZFYBhCIg_xv",
        "colab": {
          "base_uri": "https://localhost:8080/"
        },
        "outputId": "6a9a9f82-336a-4b7e-ce4e-22d524b58b6a"
      },
      "source": [
        "exchange_rates.info()"
      ],
      "execution_count": 3,
      "outputs": [
        {
          "output_type": "stream",
          "text": [
            "<class 'pandas.core.frame.DataFrame'>\n",
            "RangeIndex: 5699 entries, 0 to 5698\n",
            "Data columns (total 41 columns):\n",
            " #   Column                    Non-Null Count  Dtype  \n",
            "---  ------                    --------------  -----  \n",
            " 0   Period\\Unit:              5699 non-null   object \n",
            " 1   [Australian dollar ]      5699 non-null   object \n",
            " 2   [Bulgarian lev ]          5297 non-null   object \n",
            " 3   [Brazilian real ]         5431 non-null   object \n",
            " 4   [Canadian dollar ]        5699 non-null   object \n",
            " 5   [Swiss franc ]            5699 non-null   object \n",
            " 6   [Chinese yuan renminbi ]  5431 non-null   object \n",
            " 7   [Cypriot pound ]          2346 non-null   object \n",
            " 8   [Czech koruna ]           5699 non-null   object \n",
            " 9   [Danish krone ]           5699 non-null   object \n",
            " 10  [Estonian kroon ]         3130 non-null   object \n",
            " 11  [UK pound sterling ]      5699 non-null   object \n",
            " 12  [Greek drachma ]          520 non-null    object \n",
            " 13  [Hong Kong dollar ]       5699 non-null   object \n",
            " 14  [Croatian kuna ]          5431 non-null   object \n",
            " 15  [Hungarian forint ]       5699 non-null   object \n",
            " 16  [Indonesian rupiah ]      5699 non-null   object \n",
            " 17  [Israeli shekel ]         5431 non-null   object \n",
            " 18  [Indian rupee ]           5431 non-null   object \n",
            " 19  [Iceland krona ]          3292 non-null   float64\n",
            " 20  [Japanese yen ]           5699 non-null   object \n",
            " 21  [Korean won ]             5699 non-null   object \n",
            " 22  [Lithuanian litas ]       4159 non-null   object \n",
            " 23  [Latvian lats ]           3904 non-null   object \n",
            " 24  [Maltese lira ]           2346 non-null   object \n",
            " 25  [Mexican peso ]           5699 non-null   object \n",
            " 26  [Malaysian ringgit ]      5699 non-null   object \n",
            " 27  [Norwegian krone ]        5699 non-null   object \n",
            " 28  [New Zealand dollar ]     5699 non-null   object \n",
            " 29  [Philippine peso ]        5699 non-null   object \n",
            " 30  [Polish zloty ]           5699 non-null   object \n",
            " 31  [Romanian leu ]           5637 non-null   float64\n",
            " 32  [Russian rouble ]         5699 non-null   object \n",
            " 33  [Swedish krona ]          5699 non-null   object \n",
            " 34  [Singapore dollar ]       5699 non-null   object \n",
            " 35  [Slovenian tolar ]        2085 non-null   object \n",
            " 36  [Slovak koruna ]          2608 non-null   object \n",
            " 37  [Thai baht ]              5699 non-null   object \n",
            " 38  [Turkish lira ]           5637 non-null   float64\n",
            " 39  [US dollar ]              5699 non-null   object \n",
            " 40  [South African rand ]     5699 non-null   object \n",
            "dtypes: float64(3), object(38)\n",
            "memory usage: 1.8+ MB\n"
          ],
          "name": "stdout"
        }
      ]
    },
    {
      "cell_type": "markdown",
      "metadata": {
        "id": "ZWNNXe8ykjDZ"
      },
      "source": [
        "Following the info, we can see data set has 5699 rows and 41 columns. Some columns have **null values** such as *Cypriot pound, Greek drachma, Iceland krona, Maltese lira, Slovak koruna*"
      ]
    },
    {
      "cell_type": "code",
      "metadata": {
        "colab": {
          "base_uri": "https://localhost:8080/",
          "height": 266
        },
        "id": "FbWrRRoQkD-N",
        "outputId": "5e58b162-9094-43a5-f15f-95081f800921"
      },
      "source": [
        "exchange_rates.head()"
      ],
      "execution_count": 4,
      "outputs": [
        {
          "output_type": "execute_result",
          "data": {
            "text/html": [
              "<div>\n",
              "<style scoped>\n",
              "    .dataframe tbody tr th:only-of-type {\n",
              "        vertical-align: middle;\n",
              "    }\n",
              "\n",
              "    .dataframe tbody tr th {\n",
              "        vertical-align: top;\n",
              "    }\n",
              "\n",
              "    .dataframe thead th {\n",
              "        text-align: right;\n",
              "    }\n",
              "</style>\n",
              "<table border=\"1\" class=\"dataframe\">\n",
              "  <thead>\n",
              "    <tr style=\"text-align: right;\">\n",
              "      <th></th>\n",
              "      <th>Period\\Unit:</th>\n",
              "      <th>[Australian dollar ]</th>\n",
              "      <th>[Bulgarian lev ]</th>\n",
              "      <th>[Brazilian real ]</th>\n",
              "      <th>[Canadian dollar ]</th>\n",
              "      <th>[Swiss franc ]</th>\n",
              "      <th>[Chinese yuan renminbi ]</th>\n",
              "      <th>[Cypriot pound ]</th>\n",
              "      <th>[Czech koruna ]</th>\n",
              "      <th>[Danish krone ]</th>\n",
              "      <th>[Estonian kroon ]</th>\n",
              "      <th>[UK pound sterling ]</th>\n",
              "      <th>[Greek drachma ]</th>\n",
              "      <th>[Hong Kong dollar ]</th>\n",
              "      <th>[Croatian kuna ]</th>\n",
              "      <th>[Hungarian forint ]</th>\n",
              "      <th>[Indonesian rupiah ]</th>\n",
              "      <th>[Israeli shekel ]</th>\n",
              "      <th>[Indian rupee ]</th>\n",
              "      <th>[Iceland krona ]</th>\n",
              "      <th>[Japanese yen ]</th>\n",
              "      <th>[Korean won ]</th>\n",
              "      <th>[Lithuanian litas ]</th>\n",
              "      <th>[Latvian lats ]</th>\n",
              "      <th>[Maltese lira ]</th>\n",
              "      <th>[Mexican peso ]</th>\n",
              "      <th>[Malaysian ringgit ]</th>\n",
              "      <th>[Norwegian krone ]</th>\n",
              "      <th>[New Zealand dollar ]</th>\n",
              "      <th>[Philippine peso ]</th>\n",
              "      <th>[Polish zloty ]</th>\n",
              "      <th>[Romanian leu ]</th>\n",
              "      <th>[Russian rouble ]</th>\n",
              "      <th>[Swedish krona ]</th>\n",
              "      <th>[Singapore dollar ]</th>\n",
              "      <th>[Slovenian tolar ]</th>\n",
              "      <th>[Slovak koruna ]</th>\n",
              "      <th>[Thai baht ]</th>\n",
              "      <th>[Turkish lira ]</th>\n",
              "      <th>[US dollar ]</th>\n",
              "      <th>[South African rand ]</th>\n",
              "    </tr>\n",
              "  </thead>\n",
              "  <tbody>\n",
              "    <tr>\n",
              "      <th>0</th>\n",
              "      <td>2021-01-08</td>\n",
              "      <td>1.5758</td>\n",
              "      <td>1.9558</td>\n",
              "      <td>6.5748</td>\n",
              "      <td>1.5543</td>\n",
              "      <td>1.0827</td>\n",
              "      <td>7.9184</td>\n",
              "      <td>NaN</td>\n",
              "      <td>26.163</td>\n",
              "      <td>7.4369</td>\n",
              "      <td>NaN</td>\n",
              "      <td>0.90128</td>\n",
              "      <td>NaN</td>\n",
              "      <td>9.4982</td>\n",
              "      <td>7.5690</td>\n",
              "      <td>359.62</td>\n",
              "      <td>17247.33</td>\n",
              "      <td>3.8981</td>\n",
              "      <td>89.7975</td>\n",
              "      <td>155.5</td>\n",
              "      <td>127.26</td>\n",
              "      <td>1337.90</td>\n",
              "      <td>NaN</td>\n",
              "      <td>NaN</td>\n",
              "      <td>NaN</td>\n",
              "      <td>24.4718</td>\n",
              "      <td>4.9359</td>\n",
              "      <td>10.2863</td>\n",
              "      <td>1.6883</td>\n",
              "      <td>58.947</td>\n",
              "      <td>4.5113</td>\n",
              "      <td>4.8708</td>\n",
              "      <td>90.8000</td>\n",
              "      <td>10.0510</td>\n",
              "      <td>1.6228</td>\n",
              "      <td>NaN</td>\n",
              "      <td>NaN</td>\n",
              "      <td>36.8480</td>\n",
              "      <td>9.0146</td>\n",
              "      <td>1.2250</td>\n",
              "      <td>18.7212</td>\n",
              "    </tr>\n",
              "    <tr>\n",
              "      <th>1</th>\n",
              "      <td>2021-01-07</td>\n",
              "      <td>1.5836</td>\n",
              "      <td>1.9558</td>\n",
              "      <td>6.5172</td>\n",
              "      <td>1.5601</td>\n",
              "      <td>1.0833</td>\n",
              "      <td>7.9392</td>\n",
              "      <td>NaN</td>\n",
              "      <td>26.147</td>\n",
              "      <td>7.4392</td>\n",
              "      <td>NaN</td>\n",
              "      <td>0.90190</td>\n",
              "      <td>NaN</td>\n",
              "      <td>9.5176</td>\n",
              "      <td>7.5660</td>\n",
              "      <td>357.79</td>\n",
              "      <td>17259.99</td>\n",
              "      <td>3.9027</td>\n",
              "      <td>90.0455</td>\n",
              "      <td>155.3</td>\n",
              "      <td>127.13</td>\n",
              "      <td>1342.29</td>\n",
              "      <td>NaN</td>\n",
              "      <td>NaN</td>\n",
              "      <td>NaN</td>\n",
              "      <td>24.2552</td>\n",
              "      <td>4.9570</td>\n",
              "      <td>10.3435</td>\n",
              "      <td>1.6907</td>\n",
              "      <td>59.043</td>\n",
              "      <td>4.4998</td>\n",
              "      <td>4.8712</td>\n",
              "      <td>91.2000</td>\n",
              "      <td>10.0575</td>\n",
              "      <td>1.6253</td>\n",
              "      <td>NaN</td>\n",
              "      <td>NaN</td>\n",
              "      <td>36.8590</td>\n",
              "      <td>8.9987</td>\n",
              "      <td>1.2276</td>\n",
              "      <td>18.7919</td>\n",
              "    </tr>\n",
              "    <tr>\n",
              "      <th>2</th>\n",
              "      <td>2021-01-06</td>\n",
              "      <td>1.5824</td>\n",
              "      <td>1.9558</td>\n",
              "      <td>6.5119</td>\n",
              "      <td>1.5640</td>\n",
              "      <td>1.0821</td>\n",
              "      <td>7.9653</td>\n",
              "      <td>NaN</td>\n",
              "      <td>26.145</td>\n",
              "      <td>7.4393</td>\n",
              "      <td>NaN</td>\n",
              "      <td>0.90635</td>\n",
              "      <td>NaN</td>\n",
              "      <td>9.5659</td>\n",
              "      <td>7.5595</td>\n",
              "      <td>357.86</td>\n",
              "      <td>17168.20</td>\n",
              "      <td>3.9289</td>\n",
              "      <td>90.2040</td>\n",
              "      <td>156.3</td>\n",
              "      <td>127.03</td>\n",
              "      <td>1339.30</td>\n",
              "      <td>NaN</td>\n",
              "      <td>NaN</td>\n",
              "      <td>NaN</td>\n",
              "      <td>24.3543</td>\n",
              "      <td>4.9482</td>\n",
              "      <td>10.3810</td>\n",
              "      <td>1.6916</td>\n",
              "      <td>59.296</td>\n",
              "      <td>4.5160</td>\n",
              "      <td>4.8720</td>\n",
              "      <td>90.8175</td>\n",
              "      <td>10.0653</td>\n",
              "      <td>1.6246</td>\n",
              "      <td>NaN</td>\n",
              "      <td>NaN</td>\n",
              "      <td>36.9210</td>\n",
              "      <td>9.0554</td>\n",
              "      <td>1.2338</td>\n",
              "      <td>18.5123</td>\n",
              "    </tr>\n",
              "    <tr>\n",
              "      <th>3</th>\n",
              "      <td>2021-01-05</td>\n",
              "      <td>1.5927</td>\n",
              "      <td>1.9558</td>\n",
              "      <td>6.5517</td>\n",
              "      <td>1.5651</td>\n",
              "      <td>1.0803</td>\n",
              "      <td>7.9315</td>\n",
              "      <td>NaN</td>\n",
              "      <td>26.227</td>\n",
              "      <td>7.4387</td>\n",
              "      <td>NaN</td>\n",
              "      <td>0.90333</td>\n",
              "      <td>NaN</td>\n",
              "      <td>9.5136</td>\n",
              "      <td>7.5588</td>\n",
              "      <td>360.27</td>\n",
              "      <td>17075.10</td>\n",
              "      <td>3.9277</td>\n",
              "      <td>89.8670</td>\n",
              "      <td>156.1</td>\n",
              "      <td>126.25</td>\n",
              "      <td>1335.85</td>\n",
              "      <td>NaN</td>\n",
              "      <td>NaN</td>\n",
              "      <td>NaN</td>\n",
              "      <td>24.5860</td>\n",
              "      <td>4.9293</td>\n",
              "      <td>10.4713</td>\n",
              "      <td>1.7036</td>\n",
              "      <td>59.020</td>\n",
              "      <td>4.5473</td>\n",
              "      <td>4.8721</td>\n",
              "      <td>91.6715</td>\n",
              "      <td>10.0570</td>\n",
              "      <td>1.6180</td>\n",
              "      <td>NaN</td>\n",
              "      <td>NaN</td>\n",
              "      <td>36.7760</td>\n",
              "      <td>9.0694</td>\n",
              "      <td>1.2271</td>\n",
              "      <td>18.4194</td>\n",
              "    </tr>\n",
              "    <tr>\n",
              "      <th>4</th>\n",
              "      <td>2021-01-04</td>\n",
              "      <td>1.5928</td>\n",
              "      <td>1.9558</td>\n",
              "      <td>6.3241</td>\n",
              "      <td>1.5621</td>\n",
              "      <td>1.0811</td>\n",
              "      <td>7.9484</td>\n",
              "      <td>NaN</td>\n",
              "      <td>26.141</td>\n",
              "      <td>7.4379</td>\n",
              "      <td>NaN</td>\n",
              "      <td>0.90160</td>\n",
              "      <td>NaN</td>\n",
              "      <td>9.5330</td>\n",
              "      <td>7.5565</td>\n",
              "      <td>361.32</td>\n",
              "      <td>17062.67</td>\n",
              "      <td>3.9430</td>\n",
              "      <td>89.7890</td>\n",
              "      <td>156.1</td>\n",
              "      <td>126.62</td>\n",
              "      <td>1332.03</td>\n",
              "      <td>NaN</td>\n",
              "      <td>NaN</td>\n",
              "      <td>NaN</td>\n",
              "      <td>24.3031</td>\n",
              "      <td>4.9264</td>\n",
              "      <td>10.4440</td>\n",
              "      <td>1.7065</td>\n",
              "      <td>59.058</td>\n",
              "      <td>4.5475</td>\n",
              "      <td>4.8713</td>\n",
              "      <td>90.3420</td>\n",
              "      <td>10.0895</td>\n",
              "      <td>1.6198</td>\n",
              "      <td>NaN</td>\n",
              "      <td>NaN</td>\n",
              "      <td>36.7280</td>\n",
              "      <td>9.0579</td>\n",
              "      <td>1.2296</td>\n",
              "      <td>17.9214</td>\n",
              "    </tr>\n",
              "  </tbody>\n",
              "</table>\n",
              "</div>"
            ],
            "text/plain": [
              "  Period\\Unit: [Australian dollar ]  ... [US dollar ] [South African rand ]\n",
              "0   2021-01-08               1.5758  ...       1.2250               18.7212\n",
              "1   2021-01-07               1.5836  ...       1.2276               18.7919\n",
              "2   2021-01-06               1.5824  ...       1.2338               18.5123\n",
              "3   2021-01-05               1.5927  ...       1.2271               18.4194\n",
              "4   2021-01-04               1.5928  ...       1.2296               17.9214\n",
              "\n",
              "[5 rows x 41 columns]"
            ]
          },
          "metadata": {
            "tags": []
          },
          "execution_count": 4
        }
      ]
    },
    {
      "cell_type": "markdown",
      "metadata": {
        "id": "kuiUR1sQl44N"
      },
      "source": [
        "## Data Cleaning"
      ]
    },
    {
      "cell_type": "markdown",
      "metadata": {
        "id": "lFrXATzjtH83"
      },
      "source": [
        "Before we start creating data visualizations, we'll need to do a bit of data cleaning."
      ]
    },
    {
      "cell_type": "markdown",
      "metadata": {
        "id": "9hfybiGws5yY"
      },
      "source": [
        "Our focus the project will be on the exchange rate between the euro and the American dollar"
      ]
    },
    {
      "cell_type": "code",
      "metadata": {
        "id": "cgcfuf5DlubH"
      },
      "source": [
        "exchange_rates.rename(columns={r'Period\\Unit:': 'Time', '[US dollar ]': 'US_dollar'}, inplace=True) # rename the [US dollar ] and Period\\Unit: columns to something easier to type — US_dollar and Time.\n",
        "exchange_rates['Time'] = pd.to_datetime(exchange_rates['Time']) # change the Time column to a datetime data type.\n",
        "exchange_rates.sort_values(by='Time', ascending=True, inplace=True) # sort the values by Times in ascending order\n",
        "exchange_rates.reset_index(drop=True, inplace=True ) # reset the index (and drop the initial index )"
      ],
      "execution_count": 5,
      "outputs": []
    },
    {
      "cell_type": "code",
      "metadata": {
        "colab": {
          "base_uri": "https://localhost:8080/",
          "height": 350
        },
        "id": "XRlloSlfoa7x",
        "outputId": "57ac2df0-c04c-469f-8cc2-6d25b84f4a0b"
      },
      "source": [
        "exchange_rates.head()"
      ],
      "execution_count": 6,
      "outputs": [
        {
          "output_type": "execute_result",
          "data": {
            "text/html": [
              "<div>\n",
              "<style scoped>\n",
              "    .dataframe tbody tr th:only-of-type {\n",
              "        vertical-align: middle;\n",
              "    }\n",
              "\n",
              "    .dataframe tbody tr th {\n",
              "        vertical-align: top;\n",
              "    }\n",
              "\n",
              "    .dataframe thead th {\n",
              "        text-align: right;\n",
              "    }\n",
              "</style>\n",
              "<table border=\"1\" class=\"dataframe\">\n",
              "  <thead>\n",
              "    <tr style=\"text-align: right;\">\n",
              "      <th></th>\n",
              "      <th>Time</th>\n",
              "      <th>[Australian dollar ]</th>\n",
              "      <th>[Bulgarian lev ]</th>\n",
              "      <th>[Brazilian real ]</th>\n",
              "      <th>[Canadian dollar ]</th>\n",
              "      <th>[Swiss franc ]</th>\n",
              "      <th>[Chinese yuan renminbi ]</th>\n",
              "      <th>[Cypriot pound ]</th>\n",
              "      <th>[Czech koruna ]</th>\n",
              "      <th>[Danish krone ]</th>\n",
              "      <th>[Estonian kroon ]</th>\n",
              "      <th>[UK pound sterling ]</th>\n",
              "      <th>[Greek drachma ]</th>\n",
              "      <th>[Hong Kong dollar ]</th>\n",
              "      <th>[Croatian kuna ]</th>\n",
              "      <th>[Hungarian forint ]</th>\n",
              "      <th>[Indonesian rupiah ]</th>\n",
              "      <th>[Israeli shekel ]</th>\n",
              "      <th>[Indian rupee ]</th>\n",
              "      <th>[Iceland krona ]</th>\n",
              "      <th>[Japanese yen ]</th>\n",
              "      <th>[Korean won ]</th>\n",
              "      <th>[Lithuanian litas ]</th>\n",
              "      <th>[Latvian lats ]</th>\n",
              "      <th>[Maltese lira ]</th>\n",
              "      <th>[Mexican peso ]</th>\n",
              "      <th>[Malaysian ringgit ]</th>\n",
              "      <th>[Norwegian krone ]</th>\n",
              "      <th>[New Zealand dollar ]</th>\n",
              "      <th>[Philippine peso ]</th>\n",
              "      <th>[Polish zloty ]</th>\n",
              "      <th>[Romanian leu ]</th>\n",
              "      <th>[Russian rouble ]</th>\n",
              "      <th>[Swedish krona ]</th>\n",
              "      <th>[Singapore dollar ]</th>\n",
              "      <th>[Slovenian tolar ]</th>\n",
              "      <th>[Slovak koruna ]</th>\n",
              "      <th>[Thai baht ]</th>\n",
              "      <th>[Turkish lira ]</th>\n",
              "      <th>US_dollar</th>\n",
              "      <th>[South African rand ]</th>\n",
              "    </tr>\n",
              "  </thead>\n",
              "  <tbody>\n",
              "    <tr>\n",
              "      <th>0</th>\n",
              "      <td>1999-01-04</td>\n",
              "      <td>1.9100</td>\n",
              "      <td>NaN</td>\n",
              "      <td>NaN</td>\n",
              "      <td>1.8004</td>\n",
              "      <td>1.6168</td>\n",
              "      <td>NaN</td>\n",
              "      <td>0.58231</td>\n",
              "      <td>35.107</td>\n",
              "      <td>7.4501</td>\n",
              "      <td>15.6466</td>\n",
              "      <td>0.71110</td>\n",
              "      <td>327.15</td>\n",
              "      <td>9.1332</td>\n",
              "      <td>NaN</td>\n",
              "      <td>251.48</td>\n",
              "      <td>9433.61</td>\n",
              "      <td>NaN</td>\n",
              "      <td>NaN</td>\n",
              "      <td>81.48</td>\n",
              "      <td>133.73</td>\n",
              "      <td>1398.59</td>\n",
              "      <td>4.71700</td>\n",
              "      <td>0.6668</td>\n",
              "      <td>0.4432</td>\n",
              "      <td>11.6446</td>\n",
              "      <td>4.4798</td>\n",
              "      <td>8.8550</td>\n",
              "      <td>2.2229</td>\n",
              "      <td>45.510</td>\n",
              "      <td>4.0712</td>\n",
              "      <td>1.3111</td>\n",
              "      <td>25.2875</td>\n",
              "      <td>9.4696</td>\n",
              "      <td>1.9554</td>\n",
              "      <td>189.0450</td>\n",
              "      <td>42.991</td>\n",
              "      <td>42.6799</td>\n",
              "      <td>0.3723</td>\n",
              "      <td>1.1789</td>\n",
              "      <td>6.9358</td>\n",
              "    </tr>\n",
              "    <tr>\n",
              "      <th>1</th>\n",
              "      <td>1999-01-05</td>\n",
              "      <td>1.8944</td>\n",
              "      <td>NaN</td>\n",
              "      <td>NaN</td>\n",
              "      <td>1.7965</td>\n",
              "      <td>1.6123</td>\n",
              "      <td>NaN</td>\n",
              "      <td>0.58230</td>\n",
              "      <td>34.917</td>\n",
              "      <td>7.4495</td>\n",
              "      <td>15.6466</td>\n",
              "      <td>0.71220</td>\n",
              "      <td>324.70</td>\n",
              "      <td>9.1341</td>\n",
              "      <td>NaN</td>\n",
              "      <td>250.80</td>\n",
              "      <td>9314.51</td>\n",
              "      <td>NaN</td>\n",
              "      <td>NaN</td>\n",
              "      <td>81.53</td>\n",
              "      <td>130.96</td>\n",
              "      <td>1373.01</td>\n",
              "      <td>4.71740</td>\n",
              "      <td>0.6657</td>\n",
              "      <td>0.4432</td>\n",
              "      <td>11.5960</td>\n",
              "      <td>4.4805</td>\n",
              "      <td>8.7745</td>\n",
              "      <td>2.2011</td>\n",
              "      <td>44.745</td>\n",
              "      <td>4.0245</td>\n",
              "      <td>1.3168</td>\n",
              "      <td>26.5876</td>\n",
              "      <td>9.4025</td>\n",
              "      <td>1.9655</td>\n",
              "      <td>188.7750</td>\n",
              "      <td>42.848</td>\n",
              "      <td>42.5048</td>\n",
              "      <td>0.3728</td>\n",
              "      <td>1.1790</td>\n",
              "      <td>6.7975</td>\n",
              "    </tr>\n",
              "    <tr>\n",
              "      <th>2</th>\n",
              "      <td>1999-01-06</td>\n",
              "      <td>1.8820</td>\n",
              "      <td>NaN</td>\n",
              "      <td>NaN</td>\n",
              "      <td>1.7711</td>\n",
              "      <td>1.6116</td>\n",
              "      <td>NaN</td>\n",
              "      <td>0.58200</td>\n",
              "      <td>34.850</td>\n",
              "      <td>7.4452</td>\n",
              "      <td>15.6466</td>\n",
              "      <td>0.70760</td>\n",
              "      <td>324.72</td>\n",
              "      <td>9.1010</td>\n",
              "      <td>NaN</td>\n",
              "      <td>250.67</td>\n",
              "      <td>9337.68</td>\n",
              "      <td>NaN</td>\n",
              "      <td>NaN</td>\n",
              "      <td>81.54</td>\n",
              "      <td>131.42</td>\n",
              "      <td>1359.54</td>\n",
              "      <td>4.69940</td>\n",
              "      <td>0.6649</td>\n",
              "      <td>0.4420</td>\n",
              "      <td>11.4705</td>\n",
              "      <td>4.4637</td>\n",
              "      <td>8.7335</td>\n",
              "      <td>2.1890</td>\n",
              "      <td>44.872</td>\n",
              "      <td>4.0065</td>\n",
              "      <td>1.3168</td>\n",
              "      <td>27.4315</td>\n",
              "      <td>9.3050</td>\n",
              "      <td>1.9699</td>\n",
              "      <td>188.7000</td>\n",
              "      <td>42.778</td>\n",
              "      <td>42.6949</td>\n",
              "      <td>0.3722</td>\n",
              "      <td>1.1743</td>\n",
              "      <td>6.7307</td>\n",
              "    </tr>\n",
              "    <tr>\n",
              "      <th>3</th>\n",
              "      <td>1999-01-07</td>\n",
              "      <td>1.8474</td>\n",
              "      <td>NaN</td>\n",
              "      <td>NaN</td>\n",
              "      <td>1.7602</td>\n",
              "      <td>1.6165</td>\n",
              "      <td>NaN</td>\n",
              "      <td>0.58187</td>\n",
              "      <td>34.886</td>\n",
              "      <td>7.4431</td>\n",
              "      <td>15.6466</td>\n",
              "      <td>0.70585</td>\n",
              "      <td>324.40</td>\n",
              "      <td>9.0131</td>\n",
              "      <td>NaN</td>\n",
              "      <td>250.09</td>\n",
              "      <td>9218.77</td>\n",
              "      <td>NaN</td>\n",
              "      <td>NaN</td>\n",
              "      <td>81.06</td>\n",
              "      <td>129.43</td>\n",
              "      <td>1337.16</td>\n",
              "      <td>4.65480</td>\n",
              "      <td>0.6627</td>\n",
              "      <td>0.4413</td>\n",
              "      <td>11.5511</td>\n",
              "      <td>4.4203</td>\n",
              "      <td>8.6295</td>\n",
              "      <td>2.1531</td>\n",
              "      <td>44.436</td>\n",
              "      <td>4.0165</td>\n",
              "      <td>1.3092</td>\n",
              "      <td>26.9876</td>\n",
              "      <td>9.1800</td>\n",
              "      <td>1.9436</td>\n",
              "      <td>188.8000</td>\n",
              "      <td>42.765</td>\n",
              "      <td>42.1678</td>\n",
              "      <td>0.3701</td>\n",
              "      <td>1.1632</td>\n",
              "      <td>6.8283</td>\n",
              "    </tr>\n",
              "    <tr>\n",
              "      <th>4</th>\n",
              "      <td>1999-01-08</td>\n",
              "      <td>1.8406</td>\n",
              "      <td>NaN</td>\n",
              "      <td>NaN</td>\n",
              "      <td>1.7643</td>\n",
              "      <td>1.6138</td>\n",
              "      <td>NaN</td>\n",
              "      <td>0.58187</td>\n",
              "      <td>34.938</td>\n",
              "      <td>7.4433</td>\n",
              "      <td>15.6466</td>\n",
              "      <td>0.70940</td>\n",
              "      <td>324.00</td>\n",
              "      <td>9.0302</td>\n",
              "      <td>NaN</td>\n",
              "      <td>250.15</td>\n",
              "      <td>9321.63</td>\n",
              "      <td>NaN</td>\n",
              "      <td>NaN</td>\n",
              "      <td>80.99</td>\n",
              "      <td>130.09</td>\n",
              "      <td>1366.73</td>\n",
              "      <td>4.66430</td>\n",
              "      <td>0.6654</td>\n",
              "      <td>0.4419</td>\n",
              "      <td>11.4414</td>\n",
              "      <td>4.4295</td>\n",
              "      <td>8.5900</td>\n",
              "      <td>2.1557</td>\n",
              "      <td>44.295</td>\n",
              "      <td>4.0363</td>\n",
              "      <td>1.3143</td>\n",
              "      <td>27.2075</td>\n",
              "      <td>9.1650</td>\n",
              "      <td>1.9537</td>\n",
              "      <td>188.8400</td>\n",
              "      <td>42.560</td>\n",
              "      <td>42.5590</td>\n",
              "      <td>0.3718</td>\n",
              "      <td>1.1659</td>\n",
              "      <td>6.7855</td>\n",
              "    </tr>\n",
              "  </tbody>\n",
              "</table>\n",
              "</div>"
            ],
            "text/plain": [
              "        Time [Australian dollar ]  ... US_dollar [South African rand ]\n",
              "0 1999-01-04               1.9100  ...    1.1789                6.9358\n",
              "1 1999-01-05               1.8944  ...    1.1790                6.7975\n",
              "2 1999-01-06               1.8820  ...    1.1743                6.7307\n",
              "3 1999-01-07               1.8474  ...    1.1632                6.8283\n",
              "4 1999-01-08               1.8406  ...    1.1659                6.7855\n",
              "\n",
              "[5 rows x 41 columns]"
            ]
          },
          "metadata": {
            "tags": []
          },
          "execution_count": 6
        }
      ]
    },
    {
      "cell_type": "code",
      "metadata": {
        "colab": {
          "base_uri": "https://localhost:8080/"
        },
        "id": "cVgPz-eosiq6",
        "outputId": "2bb1498a-79cc-4f34-e62c-f8bd4ddfbab6"
      },
      "source": [
        "euro_to_dollar = exchange_rates[['Time', 'US_dollar']].copy() #create Dataframe only have columns Time and US_dollar \n",
        "euro_to_dollar['US_dollar'].value_counts() "
      ],
      "execution_count": 8,
      "outputs": [
        {
          "output_type": "execute_result",
          "data": {
            "text/plain": [
              "-         62\n",
              "1.2276     9\n",
              "1.1215     8\n",
              "1.1305     7\n",
              "1.1268     6\n",
              "          ..\n",
              "1.3288     1\n",
              "0.9415     1\n",
              "1.1359     1\n",
              "0.9687     1\n",
              "1.3044     1\n",
              "Name: US_dollar, Length: 3528, dtype: int64"
            ]
          },
          "metadata": {
            "tags": []
          },
          "execution_count": 8
        }
      ]
    },
    {
      "cell_type": "markdown",
      "metadata": {
        "id": "kChEwiQU4SFA"
      },
      "source": [
        "We can see dataframe have 62 values '-' so we need to drop all rows have value column US dollar is '-'\n",
        "\n",
        "\n",
        "\n",
        "\n"
      ]
    },
    {
      "cell_type": "code",
      "metadata": {
        "id": "vDqVOlhD6Q-8"
      },
      "source": [
        "index_delete_rows = euro_to_dollar[euro_to_dollar['US_dollar'] == '-'].index # find the index of rows where the - character appears in the US_dollar column\n",
        "euro_to_dollar.drop(index_delete_rows, inplace = True) # Drop all the rows where the - character appears in the US_dollar column\n",
        "euro_to_dollar['US_dollar'] = euro_to_dollar['US_dollar'].astype('float') # convert US_dollar column to float data type\n",
        "\n",
        "# euro_to_dollar = euro_to_dollar[euro_to_dollar['US_dollar'] != '-']   # Another way"
      ],
      "execution_count": 9,
      "outputs": []
    },
    {
      "cell_type": "code",
      "metadata": {
        "colab": {
          "base_uri": "https://localhost:8080/"
        },
        "id": "BuGiMfnY55z1",
        "outputId": "50fae199-36ca-423d-9b5a-3823b4072365"
      },
      "source": [
        "euro_to_dollar['US_dollar'].value_counts()"
      ],
      "execution_count": 10,
      "outputs": [
        {
          "output_type": "execute_result",
          "data": {
            "text/plain": [
              "1.2276    9\n",
              "1.1215    8\n",
              "1.1305    7\n",
              "1.1268    6\n",
              "1.3373    6\n",
              "         ..\n",
              "1.4639    1\n",
              "1.5206    1\n",
              "1.3272    1\n",
              "0.8591    1\n",
              "0.9375    1\n",
              "Name: US_dollar, Length: 3527, dtype: int64"
            ]
          },
          "metadata": {
            "tags": []
          },
          "execution_count": 10
        }
      ]
    },
    {
      "cell_type": "markdown",
      "metadata": {
        "id": "0D44TBvO91HD"
      },
      "source": [
        "## **Rolling mean**"
      ]
    },
    {
      "cell_type": "markdown",
      "metadata": {
        "id": "-oB1cifE97Z-"
      },
      "source": [
        "Now that we're finished cleaning the data, we'll generate a line plot to visualize the evolution of the euro-dollar exchange rate."
      ]
    },
    {
      "cell_type": "code",
      "metadata": {
        "colab": {
          "base_uri": "https://localhost:8080/"
        },
        "id": "PMJrE59sAC6D",
        "outputId": "e730506c-bf5c-48ea-f677-9c960c8ed910"
      },
      "source": [
        "euro_to_dollar['US_dollar'].dtype"
      ],
      "execution_count": 11,
      "outputs": [
        {
          "output_type": "execute_result",
          "data": {
            "text/plain": [
              "dtype('float64')"
            ]
          },
          "metadata": {
            "tags": []
          },
          "execution_count": 11
        }
      ]
    },
    {
      "cell_type": "code",
      "metadata": {
        "colab": {
          "base_uri": "https://localhost:8080/",
          "height": 265
        },
        "id": "eor-xtz17jih",
        "outputId": "a31d1701-7718-4f4f-ff59-db8cf27fff4d"
      },
      "source": [
        "import matplotlib.pyplot as plt\n",
        "\n",
        "fig, ax = plt.subplots()\n",
        "ax.plot(euro_to_dollar['Time'], euro_to_dollar['US_dollar'])\n",
        "plt.show()"
      ],
      "execution_count": 20,
      "outputs": [
        {
          "output_type": "display_data",
          "data": {
            "image/png": "[encoded data removed]",
            "text/plain": [
              "<Figure size 432x288 with 1 Axes>"
            ]
          },
          "metadata": {
            "tags": [],
            "needs_background": "light"
          }
        }
      ]
    },
    {
      "cell_type": "markdown",
      "metadata": {
        "id": "_hij3lI9HQ9l"
      },
      "source": [
        "If we look at the line's shape, we see many small wiggles — rather than seeing a smooth line. The wiggles, however, have meaning: : they are the visual representation of the daily variation in the exchange rate. The rate goes up and down, up and down again, day to day. The rate only shows clear upward or downward trends in the longer run (months or years)."
      ]
    },
    {
      "cell_type": "code",
      "metadata": {
        "colab": {
          "base_uri": "https://localhost:8080/",
          "height": 391
        },
        "id": "oJN8ZpBM-Say",
        "outputId": "e85841e3-9b48-4185-9c14-c7950865b2a0"
      },
      "source": [
        "fig, ax = plt.subplots(nrows=3, ncols=2, figsize=(9,6))\n",
        "\n",
        "ax[0,0].plot(euro_to_dollar['Time'], euro_to_dollar['US_dollar'])\n",
        "ax[0,1].plot(euro_to_dollar['Time'], euro_to_dollar['US_dollar'].rolling(7).mean())\n",
        "ax[1,0].plot(euro_to_dollar['Time'], euro_to_dollar['US_dollar'].rolling(30).mean())\n",
        "ax[1,1].plot(euro_to_dollar['Time'], euro_to_dollar['US_dollar'].rolling(50).mean())\n",
        "ax[2,0].plot(euro_to_dollar['Time'], euro_to_dollar['US_dollar'].rolling(100).mean())\n",
        "ax[2,1].plot(euro_to_dollar['Time'], euro_to_dollar['US_dollar'].rolling(365).mean())\n",
        "\n",
        "plt.plot()"
      ],
      "execution_count": 27,
      "outputs": [
        {
          "output_type": "execute_result",
          "data": {
            "text/plain": [
              "[]"
            ]
          },
          "metadata": {
            "tags": []
          },
          "execution_count": 27
        },
        {
          "output_type": "display_data",
          "data": {
            "image/png": "[encoded data removed]",
            "text/plain": [
              "<Figure size 648x432 with 6 Axes>"
            ]
          },
          "metadata": {
            "tags": [],
            "needs_background": "light"
          }
        }
      ]
    },
    {
      "cell_type": "code",
      "metadata": {
        "id": "pXwXZx80DbFA"
      },
      "source": [
        ""
      ],
      "execution_count": 12,
      "outputs": []
    }
  ]
}